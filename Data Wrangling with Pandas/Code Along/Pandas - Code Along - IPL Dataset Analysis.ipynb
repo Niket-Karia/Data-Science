{
 "cells": [
  {
   "cell_type": "markdown",
   "metadata": {},
   "source": [
    "# Pandas - Code Along - IPL Dataset Analysis"
   ]
  },
  {
   "cell_type": "code",
   "execution_count": 1,
   "metadata": {},
   "outputs": [],
   "source": [
    "# Path for the Dataset:\n",
    "\n",
    "path = \"c:/users/kruti karia/desktop/ipl_data.csv\""
   ]
  },
  {
   "cell_type": "code",
   "execution_count": 2,
   "metadata": {},
   "outputs": [],
   "source": [
    "# Import Packages/Modules:\n",
    "\n",
    "import numpy as np\n",
    "import pandas as pd"
   ]
  },
  {
   "cell_type": "code",
   "execution_count": 4,
   "metadata": {},
   "outputs": [],
   "source": [
    "# Read the Dataset from the path:\n",
    "\n",
    "data = pd.read_csv(path)\n"
   ]
  },
  {
   "cell_type": "code",
   "execution_count": 8,
   "metadata": {},
   "outputs": [
    {
     "name": "stdout",
     "output_type": "stream",
     "text": [
      "<class 'pandas.core.frame.DataFrame'>\n",
      "RangeIndex: 136522 entries, 0 to 136521\n",
      "Data columns (total 24 columns):\n",
      " #   Column           Non-Null Count   Dtype  \n",
      "---  ------           --------------   -----  \n",
      " 0   match_code       136522 non-null  int64  \n",
      " 1   date             136522 non-null  object \n",
      " 2   city             136522 non-null  object \n",
      " 3   venue            136522 non-null  object \n",
      " 4   team1            136522 non-null  object \n",
      " 5   team2            136522 non-null  object \n",
      " 6   toss_winner      136522 non-null  object \n",
      " 7   toss_decision    136522 non-null  object \n",
      " 8   winner           134704 non-null  object \n",
      " 9   win_type         134704 non-null  object \n",
      " 10  win_margin       134704 non-null  float64\n",
      " 11  inning           136522 non-null  int64  \n",
      " 12  delivery         136522 non-null  float64\n",
      " 13  batting_team     136522 non-null  object \n",
      " 14  batsman          136522 non-null  object \n",
      " 15  non_striker      136522 non-null  object \n",
      " 16  bowler           136522 non-null  object \n",
      " 17  runs             136522 non-null  int64  \n",
      " 18  extras           136522 non-null  int64  \n",
      " 19  total            136522 non-null  int64  \n",
      " 20  extras_type      7458 non-null    object \n",
      " 21  player_out       6715 non-null    object \n",
      " 22  wicket_kind      6715 non-null    object \n",
      " 23  wicket_fielders  4865 non-null    object \n",
      "dtypes: float64(2), int64(5), object(17)\n",
      "memory usage: 25.0+ MB\n"
     ]
    },
    {
     "data": {
      "text/html": [
       "<div>\n",
       "<style scoped>\n",
       "    .dataframe tbody tr th:only-of-type {\n",
       "        vertical-align: middle;\n",
       "    }\n",
       "\n",
       "    .dataframe tbody tr th {\n",
       "        vertical-align: top;\n",
       "    }\n",
       "\n",
       "    .dataframe thead th {\n",
       "        text-align: right;\n",
       "    }\n",
       "</style>\n",
       "<table border=\"1\" class=\"dataframe\">\n",
       "  <thead>\n",
       "    <tr style=\"text-align: right;\">\n",
       "      <th></th>\n",
       "      <th>match_code</th>\n",
       "      <th>win_margin</th>\n",
       "      <th>inning</th>\n",
       "      <th>delivery</th>\n",
       "      <th>runs</th>\n",
       "      <th>extras</th>\n",
       "      <th>total</th>\n",
       "    </tr>\n",
       "  </thead>\n",
       "  <tbody>\n",
       "    <tr>\n",
       "      <th>count</th>\n",
       "      <td>136522.000000</td>\n",
       "      <td>134704.000000</td>\n",
       "      <td>136522.000000</td>\n",
       "      <td>136522.000000</td>\n",
       "      <td>136522.000000</td>\n",
       "      <td>136522.000000</td>\n",
       "      <td>136522.000000</td>\n",
       "    </tr>\n",
       "    <tr>\n",
       "      <th>mean</th>\n",
       "      <td>590895.686534</td>\n",
       "      <td>17.389729</td>\n",
       "      <td>1.481769</td>\n",
       "      <td>9.510885</td>\n",
       "      <td>1.214881</td>\n",
       "      <td>0.069644</td>\n",
       "      <td>1.284526</td>\n",
       "    </tr>\n",
       "    <tr>\n",
       "      <th>std</th>\n",
       "      <td>195529.048724</td>\n",
       "      <td>21.764597</td>\n",
       "      <td>0.499669</td>\n",
       "      <td>5.672315</td>\n",
       "      <td>1.589211</td>\n",
       "      <td>0.353353</td>\n",
       "      <td>1.578578</td>\n",
       "    </tr>\n",
       "    <tr>\n",
       "      <th>min</th>\n",
       "      <td>335982.000000</td>\n",
       "      <td>1.000000</td>\n",
       "      <td>1.000000</td>\n",
       "      <td>0.100000</td>\n",
       "      <td>0.000000</td>\n",
       "      <td>0.000000</td>\n",
       "      <td>0.000000</td>\n",
       "    </tr>\n",
       "    <tr>\n",
       "      <th>25%</th>\n",
       "      <td>419135.000000</td>\n",
       "      <td>6.000000</td>\n",
       "      <td>1.000000</td>\n",
       "      <td>4.500000</td>\n",
       "      <td>0.000000</td>\n",
       "      <td>0.000000</td>\n",
       "      <td>0.000000</td>\n",
       "    </tr>\n",
       "    <tr>\n",
       "      <th>50%</th>\n",
       "      <td>548348.000000</td>\n",
       "      <td>8.000000</td>\n",
       "      <td>1.000000</td>\n",
       "      <td>9.400000</td>\n",
       "      <td>1.000000</td>\n",
       "      <td>0.000000</td>\n",
       "      <td>1.000000</td>\n",
       "    </tr>\n",
       "    <tr>\n",
       "      <th>75%</th>\n",
       "      <td>733997.000000</td>\n",
       "      <td>22.000000</td>\n",
       "      <td>2.000000</td>\n",
       "      <td>14.300000</td>\n",
       "      <td>1.000000</td>\n",
       "      <td>0.000000</td>\n",
       "      <td>1.000000</td>\n",
       "    </tr>\n",
       "    <tr>\n",
       "      <th>max</th>\n",
       "      <td>981019.000000</td>\n",
       "      <td>144.000000</td>\n",
       "      <td>2.000000</td>\n",
       "      <td>19.900000</td>\n",
       "      <td>6.000000</td>\n",
       "      <td>7.000000</td>\n",
       "      <td>7.000000</td>\n",
       "    </tr>\n",
       "  </tbody>\n",
       "</table>\n",
       "</div>"
      ],
      "text/plain": [
       "          match_code     win_margin         inning       delivery  \\\n",
       "count  136522.000000  134704.000000  136522.000000  136522.000000   \n",
       "mean   590895.686534      17.389729       1.481769       9.510885   \n",
       "std    195529.048724      21.764597       0.499669       5.672315   \n",
       "min    335982.000000       1.000000       1.000000       0.100000   \n",
       "25%    419135.000000       6.000000       1.000000       4.500000   \n",
       "50%    548348.000000       8.000000       1.000000       9.400000   \n",
       "75%    733997.000000      22.000000       2.000000      14.300000   \n",
       "max    981019.000000     144.000000       2.000000      19.900000   \n",
       "\n",
       "                runs         extras          total  \n",
       "count  136522.000000  136522.000000  136522.000000  \n",
       "mean        1.214881       0.069644       1.284526  \n",
       "std         1.589211       0.353353       1.578578  \n",
       "min         0.000000       0.000000       0.000000  \n",
       "25%         0.000000       0.000000       0.000000  \n",
       "50%         1.000000       0.000000       1.000000  \n",
       "75%         1.000000       0.000000       1.000000  \n",
       "max         6.000000       7.000000       7.000000  "
      ]
     },
     "execution_count": 8,
     "metadata": {},
     "output_type": "execute_result"
    }
   ],
   "source": [
    "# Dataset Attributes:\n",
    "\n",
    "data.info()\n",
    "\n",
    "data.describe()"
   ]
  },
  {
   "cell_type": "code",
   "execution_count": 15,
   "metadata": {},
   "outputs": [
    {
     "name": "stdout",
     "output_type": "stream",
     "text": [
      "The List of unique cities where the matches were played are \n",
      " ['East London' 'Port Elizabeth' 'Centurion' 'neutral_venue' 'Chennai'\n",
      " 'Jaipur' 'Kolkata' 'Delhi' 'Chandigarh' 'Hyderabad' 'Ranchi' 'Mumbai'\n",
      " 'Bangalore' 'Dharamsala' 'Pune' 'Rajkot' 'Durban' 'Cuttack' 'Cape Town'\n",
      " 'Ahmedabad' 'Johannesburg' 'Visakhapatnam' 'Abu Dhabi' 'Raipur' 'Kochi'\n",
      " 'Kimberley' 'Nagpur' 'Bloemfontein' 'Indore' 'Kanpur']\n"
     ]
    }
   ],
   "source": [
    "# Find the list of unique cities where matches were played:\n",
    "unique_cities = data['city'].unique()\n",
    "print('The List of unique cities where the matches were played are \\n',unique_cities)\n"
   ]
  },
  {
   "cell_type": "code",
   "execution_count": 24,
   "metadata": {},
   "outputs": [
    {
     "name": "stdout",
     "output_type": "stream",
     "text": [
      "The Columns with nul values are \n",
      " ['winner', 'win_type', 'win_margin', 'extras_type', 'player_out', 'wicket_kind', 'wicket_fielders']\n"
     ]
    }
   ],
   "source": [
    "# Find the columns which contains null values if any ?\n",
    "\n",
    "null_values = data.isnull().sum()\n",
    "null_values = list(null_values[null_values>0].index)\n",
    "print(\"The Columns with nul values are \\n\",null_values)"
   ]
  },
  {
   "cell_type": "code",
   "execution_count": 55,
   "metadata": {},
   "outputs": [
    {
     "name": "stdout",
     "output_type": "stream",
     "text": [
      "The top 5 Venues are \n",
      " ['M Chinnaswamy Stadium', 'Eden Gardens', 'Feroz Shah Kotla', 'Wankhede Stadium', 'MA Chidambaram Stadium, Chepauk']\n"
     ]
    }
   ],
   "source": [
    "# List down top 5 most played venues\n",
    "\n",
    "top_five_venues = data.groupby(['venue'])[['match_code']].nunique().sort_values(by = 'match_code',ascending = False).head().index\n",
    "print(\"The top 5 Venues are \\n\",list(top_five_venues))"
   ]
  },
  {
   "cell_type": "code",
   "execution_count": 67,
   "metadata": {},
   "outputs": [
    {
     "name": "stdout",
     "output_type": "stream",
     "text": [
      "The Runs count frequency table is \n",
      " 0    55870\n",
      "1    50087\n",
      "4    15409\n",
      "2     8835\n",
      "6     5806\n",
      "3      473\n",
      "5       42\n",
      "Name: runs, dtype: int64\n"
     ]
    }
   ],
   "source": [
    "# Make a runs count frequency table\n",
    "\n",
    "runs_count = data['runs'].value_counts()\n",
    "print(\"The Runs count frequency table is \\n\",runs_count)"
   ]
  },
  {
   "cell_type": "code",
   "execution_count": 97,
   "metadata": {},
   "outputs": [
    {
     "name": "stdout",
     "output_type": "stream",
     "text": [
      "The No. of seasons played are 9\n",
      "The year's in which the season are played are \n",
      " ['2009', '2014', '2011', '2008', '2015', '2010', '2013', '2012', '2016']\n"
     ]
    }
   ],
   "source": [
    "# How many seasons were played and in which year they were played \n",
    "\n",
    "data['year'] = data['date'].str[:4]\n",
    "print(\"The No. of seasons played are\",data['year'].nunique())\n",
    "print(\"The year's in which the season are played are \\n\",list(data['year'].unique()))"
   ]
  },
  {
   "cell_type": "code",
   "execution_count": 105,
   "metadata": {},
   "outputs": [
    {
     "name": "stdout",
     "output_type": "stream",
     "text": [
      "Matches played per season are \n",
      " year\n",
      "2008    58\n",
      "2009    57\n",
      "2010    60\n",
      "2011    73\n",
      "2012    74\n",
      "2013    76\n",
      "2014    60\n",
      "2015    59\n",
      "2016    60\n",
      "Name: match_code, dtype: int64\n"
     ]
    }
   ],
   "source": [
    "# No. of matches played per season\n",
    "\n",
    "matches_played_per_season = data.groupby(['year'])['match_code'].nunique()\n",
    "print(\"Matches played per season are \\n\",matches_played_per_season)"
   ]
  },
  {
   "cell_type": "code",
   "execution_count": 114,
   "metadata": {},
   "outputs": [
    {
     "name": "stdout",
     "output_type": "stream",
     "text": [
      "The total runs acroos all the seasons are \n",
      " year\n",
      "2008    17936\n",
      "2009    16320\n",
      "2010    18862\n",
      "2011    21154\n",
      "2012    22451\n",
      "2013    22541\n",
      "2014    18909\n",
      "2015    18331\n",
      "2016    18862\n",
      "Name: total, dtype: int64\n"
     ]
    }
   ],
   "source": [
    "# Total runs across the seasons\n",
    "\n",
    "total_runs_per_season = data.groupby(['year'])['total'].sum()\n",
    "print(\"The total runs acroos all the seasons are \\n\",total_runs_per_season)"
   ]
  },
  {
   "cell_type": "code",
   "execution_count": 140,
   "metadata": {},
   "outputs": [
    {
     "data": {
      "text/html": [
       "<div>\n",
       "<style scoped>\n",
       "    .dataframe tbody tr th:only-of-type {\n",
       "        vertical-align: middle;\n",
       "    }\n",
       "\n",
       "    .dataframe tbody tr th {\n",
       "        vertical-align: top;\n",
       "    }\n",
       "\n",
       "    .dataframe thead th {\n",
       "        text-align: right;\n",
       "    }\n",
       "</style>\n",
       "<table border=\"1\" class=\"dataframe\">\n",
       "  <thead>\n",
       "    <tr style=\"text-align: right;\">\n",
       "      <th></th>\n",
       "      <th>match_code</th>\n",
       "      <th>inning</th>\n",
       "      <th>team1</th>\n",
       "      <th>team2</th>\n",
       "      <th>total</th>\n",
       "    </tr>\n",
       "  </thead>\n",
       "  <tbody>\n",
       "    <tr>\n",
       "      <th>701</th>\n",
       "      <td>598027</td>\n",
       "      <td>1</td>\n",
       "      <td>Royal Challengers Bangalore</td>\n",
       "      <td>Pune Warriors</td>\n",
       "      <td>263</td>\n",
       "    </tr>\n",
       "    <tr>\n",
       "      <th>1118</th>\n",
       "      <td>980987</td>\n",
       "      <td>1</td>\n",
       "      <td>Royal Challengers Bangalore</td>\n",
       "      <td>Gujarat Lions</td>\n",
       "      <td>248</td>\n",
       "    </tr>\n",
       "    <tr>\n",
       "      <th>292</th>\n",
       "      <td>419137</td>\n",
       "      <td>1</td>\n",
       "      <td>Chennai Super Kings</td>\n",
       "      <td>Rajasthan Royals</td>\n",
       "      <td>246</td>\n",
       "    </tr>\n",
       "    <tr>\n",
       "      <th>2</th>\n",
       "      <td>335983</td>\n",
       "      <td>1</td>\n",
       "      <td>Kings XI Punjab</td>\n",
       "      <td>Chennai Super Kings</td>\n",
       "      <td>240</td>\n",
       "    </tr>\n",
       "    <tr>\n",
       "      <th>1002</th>\n",
       "      <td>829795</td>\n",
       "      <td>1</td>\n",
       "      <td>Mumbai Indians</td>\n",
       "      <td>Royal Challengers Bangalore</td>\n",
       "      <td>235</td>\n",
       "    </tr>\n",
       "    <tr>\n",
       "      <th>472</th>\n",
       "      <td>501260</td>\n",
       "      <td>1</td>\n",
       "      <td>Kings XI Punjab</td>\n",
       "      <td>Royal Challengers Bangalore</td>\n",
       "      <td>232</td>\n",
       "    </tr>\n",
       "    <tr>\n",
       "      <th>398</th>\n",
       "      <td>501223</td>\n",
       "      <td>1</td>\n",
       "      <td>Delhi Daredevils</td>\n",
       "      <td>Kings XI Punjab</td>\n",
       "      <td>231</td>\n",
       "    </tr>\n",
       "    <tr>\n",
       "      <th>851</th>\n",
       "      <td>733987</td>\n",
       "      <td>1</td>\n",
       "      <td>Kings XI Punjab</td>\n",
       "      <td>Chennai Super Kings</td>\n",
       "      <td>231</td>\n",
       "    </tr>\n",
       "    <tr>\n",
       "      <th>1038</th>\n",
       "      <td>980907</td>\n",
       "      <td>1</td>\n",
       "      <td>Royal Challengers Bangalore</td>\n",
       "      <td>Sunrisers Hyderabad</td>\n",
       "      <td>227</td>\n",
       "    </tr>\n",
       "    <tr>\n",
       "      <th>911</th>\n",
       "      <td>734047</td>\n",
       "      <td>1</td>\n",
       "      <td>Chennai Super Kings</td>\n",
       "      <td>Kings XI Punjab</td>\n",
       "      <td>226</td>\n",
       "    </tr>\n",
       "  </tbody>\n",
       "</table>\n",
       "</div>"
      ],
      "text/plain": [
       "      match_code  inning                        team1  \\\n",
       "701       598027       1  Royal Challengers Bangalore   \n",
       "1118      980987       1  Royal Challengers Bangalore   \n",
       "292       419137       1          Chennai Super Kings   \n",
       "2         335983       1              Kings XI Punjab   \n",
       "1002      829795       1               Mumbai Indians   \n",
       "472       501260       1              Kings XI Punjab   \n",
       "398       501223       1             Delhi Daredevils   \n",
       "851       733987       1              Kings XI Punjab   \n",
       "1038      980907       1  Royal Challengers Bangalore   \n",
       "911       734047       1          Chennai Super Kings   \n",
       "\n",
       "                            team2  total  \n",
       "701                 Pune Warriors    263  \n",
       "1118                Gujarat Lions    248  \n",
       "292              Rajasthan Royals    246  \n",
       "2             Chennai Super Kings    240  \n",
       "1002  Royal Challengers Bangalore    235  \n",
       "472   Royal Challengers Bangalore    232  \n",
       "398               Kings XI Punjab    231  \n",
       "851           Chennai Super Kings    231  \n",
       "1038          Sunrisers Hyderabad    227  \n",
       "911               Kings XI Punjab    226  "
      ]
     },
     "execution_count": 140,
     "metadata": {},
     "output_type": "execute_result"
    }
   ],
   "source": [
    "# Teams who have scored more than 200+ runs. Show the top 10 results\n",
    "\n",
    "top_10_results = data.groupby(['match_code','inning','team1','team2'])['total'].sum().reset_index()\n",
    "top_10_results = top_10_results[top_10_results['total']>200]\n",
    "top_10_results.nlargest(10,'total')"
   ]
  },
  {
   "cell_type": "code",
   "execution_count": 167,
   "metadata": {},
   "outputs": [
    {
     "name": "stdout",
     "output_type": "stream",
     "text": [
      "Highest Win Count in Respective Seasons are year  winner                 \n",
      "2008  Rajasthan Royals           13\n",
      "      Kings XI Punjab            10\n",
      "      Chennai Super Kings         9\n",
      "      Delhi Daredevils            7\n",
      "      Mumbai Indians              7\n",
      "                                 ..\n",
      "2016  Kolkata Knight Riders       8\n",
      "      Delhi Daredevils            7\n",
      "      Mumbai Indians              7\n",
      "      Rising Pune Supergiants     5\n",
      "      Kings XI Punjab             4\n",
      "Name: winner, Length: 76, dtype: int64\n"
     ]
    }
   ],
   "source": [
    "# Which team has the highest win count in their respective seasons ?\n",
    "\n",
    "match_wise_data = data.drop_duplicates(subset='match_code',keep='first').reset_index(drop=True)\n",
    "match_wise_data = match_wise_data.groupby('year')['winner'].value_counts(ascending = False)\n",
    "print(\"Highest Win Count in Respective Seasons are\",match_wise_data)"
   ]
  },
  {
   "cell_type": "code",
   "execution_count": null,
   "metadata": {},
   "outputs": [],
   "source": []
  }
 ],
 "metadata": {
  "kernelspec": {
   "display_name": "Python 3",
   "language": "python",
   "name": "python3"
  },
  "language_info": {
   "codemirror_mode": {
    "name": "ipython",
    "version": 3
   },
   "file_extension": ".py",
   "mimetype": "text/x-python",
   "name": "python",
   "nbconvert_exporter": "python",
   "pygments_lexer": "ipython3",
   "version": "3.7.6"
  }
 },
 "nbformat": 4,
 "nbformat_minor": 4
}
