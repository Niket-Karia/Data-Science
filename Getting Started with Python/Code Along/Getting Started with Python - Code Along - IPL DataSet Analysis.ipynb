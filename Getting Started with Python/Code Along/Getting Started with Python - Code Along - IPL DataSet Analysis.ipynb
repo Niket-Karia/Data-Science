{
 "cells": [
  {
   "cell_type": "markdown",
   "metadata": {},
   "source": [
    "# IPL DataSet Analysis\n",
    "\n"
   ]
  },
  {
   "cell_type": "code",
   "execution_count": 1,
   "metadata": {},
   "outputs": [],
   "source": [
    "# import yaml:\n",
    "\n",
    "import yaml"
   ]
  },
  {
   "cell_type": "code",
   "execution_count": 3,
   "metadata": {},
   "outputs": [],
   "source": [
    "# Path for Dataset:\n",
    "\n",
    "path = \"c:/users/kruti karia/desktop/ipl_data.yaml\""
   ]
  },
  {
   "cell_type": "code",
   "execution_count": 102,
   "metadata": {},
   "outputs": [
    {
     "name": "stderr",
     "output_type": "stream",
     "text": [
      "C:\\Users\\Kruti Karia\\anaconda3\\lib\\site-packages\\ipykernel_launcher.py:4: YAMLLoadWarning: calling yaml.load() without Loader=... is deprecated, as the default Loader is unsafe. Please read https://msg.pyyaml.org/load for full details.\n",
      "  after removing the cwd from sys.path.\n"
     ]
    }
   ],
   "source": [
    "# Load and Read the Dataset:\n",
    "\n",
    "with open(path) as f:\n",
    "    data = yaml.load(f)\n",
    "    \n"
   ]
  },
  {
   "cell_type": "code",
   "execution_count": 103,
   "metadata": {},
   "outputs": [
    {
     "name": "stdout",
     "output_type": "stream",
     "text": [
      "The type of data we are working is <class 'dict'>\n"
     ]
    }
   ],
   "source": [
    "# Find data type of the file\n",
    "\n",
    "data_type = type(data)\n",
    "print(\"The type of data we are working is\",data_type)"
   ]
  },
  {
   "cell_type": "code",
   "execution_count": 104,
   "metadata": {},
   "outputs": [
    {
     "name": "stdout",
     "output_type": "stream",
     "text": [
      "The City where match was played is Bangalore\n",
      "The Venue where match was played is M Chinnaswamy Stadium\n"
     ]
    }
   ],
   "source": [
    "# In which city, and at which venue the match was played and where was it played ?\n",
    "\n",
    "city = data['info']['city']\n",
    "print(\"The City where match was played is\",city)\n",
    "\n",
    "venue = data['info']['venue']\n",
    "print(\"The Venue where match was played is\",venue)"
   ]
  },
  {
   "cell_type": "code",
   "execution_count": 105,
   "metadata": {},
   "outputs": [
    {
     "name": "stdout",
     "output_type": "stream",
     "text": [
      "The teams played in tournament are Royal Challengers Bangalore , Kolkata Knight Riders\n",
      "The no. of teams participated are 2\n"
     ]
    }
   ],
   "source": [
    "# Which are all the teams that played in the tournament ? How many teams participated in total?\n",
    "\n",
    "teams_played = data['info']['teams']\n",
    "print(\"The teams played in tournament are\",teams_played[0]+\" , \"+teams_played[1])\n",
    "\n",
    "print(\"The no. of teams participated are\",len(teams_played))"
   ]
  },
  {
   "cell_type": "code",
   "execution_count": 106,
   "metadata": {},
   "outputs": [
    {
     "name": "stdout",
     "output_type": "stream",
     "text": [
      "Team that won the Toss is Royal Challengers Bangalore and Decision of toss winner is field\n"
     ]
    }
   ],
   "source": [
    "# Which team won the toss and what was the decision of toss winner ?\n",
    "\n",
    "toss_info = data['info']['toss']\n",
    "print(\"Team that won the Toss is\",toss_info['winner'],\"and Decision of toss winner is\",toss_info['decision'])"
   ]
  },
  {
   "cell_type": "code",
   "execution_count": 107,
   "metadata": {},
   "outputs": [
    {
     "name": "stdout",
     "output_type": "stream",
     "text": [
      "First Bowler for the first innings is P Kumar\n",
      "Batsman who played first ball of first innings is SC Ganguly\n"
     ]
    }
   ],
   "source": [
    "# Find the first bowler and first batsman who played the first ball of the first inning\n",
    "\n",
    "first_bowler = data['innings'][0]['1st innings']['deliveries'][0][0.1]['bowler']\n",
    "print(\"First Bowler for the first innings is\",first_bowler)\n",
    "first_batsman = data['innings'][0]['1st innings']['deliveries'][0][0.1]['batsman']\n",
    "print(\"Batsman who played first ball of first innings is\",first_batsman)"
   ]
  },
  {
   "cell_type": "code",
   "execution_count": 108,
   "metadata": {},
   "outputs": [
    {
     "name": "stdout",
     "output_type": "stream",
     "text": [
      "No. of deliveries bowled in first innings is 124\n"
     ]
    }
   ],
   "source": [
    "# How many deliveries were delivered in first inning ?\n",
    "\n",
    "first_innings_deliveries = len(data['innings'][0]['1st innings']['deliveries'])\n",
    "print(\"No. of deliveries bowled in first innings is\",first_innings_deliveries)"
   ]
  },
  {
   "cell_type": "code",
   "execution_count": 109,
   "metadata": {},
   "outputs": [
    {
     "name": "stdout",
     "output_type": "stream",
     "text": [
      "No. of deliveries bowled in second innings is 101\n"
     ]
    }
   ],
   "source": [
    "# How many deliveries were delivered in second inning ?\n",
    "\n",
    "second_innings_deliveries = len(data['innings'][1]['2nd innings']['deliveries'])\n",
    "print(\"No. of deliveries bowled in second innings is\",second_innings_deliveries)"
   ]
  },
  {
   "cell_type": "code",
   "execution_count": 110,
   "metadata": {},
   "outputs": [
    {
     "name": "stdout",
     "output_type": "stream",
     "text": [
      "Team that won is Kolkata Knight Riders by 140 runs\n"
     ]
    }
   ],
   "source": [
    "# Which team won and how ?\n",
    "\n",
    "team_won = data['info']['outcome']['winner']\n",
    "team_won_how = data['info']['outcome']['by']['runs']\n",
    "print(\"Team that won is\",team_won,'by',team_won_how,'runs')"
   ]
  },
  {
   "cell_type": "code",
   "execution_count": null,
   "metadata": {},
   "outputs": [],
   "source": []
  },
  {
   "cell_type": "code",
   "execution_count": null,
   "metadata": {},
   "outputs": [],
   "source": []
  }
 ],
 "metadata": {
  "kernelspec": {
   "display_name": "Python 3",
   "language": "python",
   "name": "python3"
  },
  "language_info": {
   "codemirror_mode": {
    "name": "ipython",
    "version": 3
   },
   "file_extension": ".py",
   "mimetype": "text/x-python",
   "name": "python",
   "nbconvert_exporter": "python",
   "pygments_lexer": "ipython3",
   "version": "3.7.6"
  }
 },
 "nbformat": 4,
 "nbformat_minor": 4
}
