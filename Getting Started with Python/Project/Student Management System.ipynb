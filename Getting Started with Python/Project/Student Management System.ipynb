{
 "cells": [
  {
   "cell_type": "markdown",
   "metadata": {},
   "source": [
    "# Project : Student Management System"
   ]
  },
  {
   "cell_type": "markdown",
   "metadata": {},
   "source": [
    "# Prepare the Student Roster\n",
    "\n"
   ]
  },
  {
   "cell_type": "markdown",
   "metadata": {},
   "source": [
    "# Instructions:\n",
    "    \n",
    "Create a 'class_1' list and pass the elements 'Geoffrey Hinton','Andrew Ng','Sebastian Raschka','Yoshua Bengio'.\n",
    "\n",
    "Create a 'class_2' list and pass the elements 'Hilary Mason','Carla Gentry','Corinna Cortes'.\n",
    "\n",
    "Concatenate the 'class_1' and 'class_2' list. Store the values in a'new_class' variable.\n",
    "\n",
    "Print the 'new_class' variable to see the new list.\n",
    "\n",
    "You can now see the students list.\n",
    "\n",
    "Oops! Looks like we might have missed a student whose name is Peter Warden. Let's add him in the new register.\n",
    "\n",
    "Add new element 'Peter Warden' in the 'new_class' list.\n",
    "\n",
    "Print 'new_class' to see the updated list.\n",
    "\n",
    "It seems like there could also be a wrong entry in the list whose name is Carla Gentry. Let's remove her from the register.\n",
    "\n",
    "Remove the 'Carla Gentry'element from the 'new_class' list.\n",
    "\n",
    "Print 'new_class' to see the updated list."
   ]
  },
  {
   "cell_type": "code",
   "execution_count": 3,
   "metadata": {},
   "outputs": [],
   "source": [
    "# Create Lists:\n",
    "\n",
    "class_1 = ['Geoffrey Hinton','Andrew Ng','Sebastian Raschka','Yoshua Bengio']\n",
    "\n",
    "class_2 = ['Hilary Mason','Carla Gentry','Corinna Cortes']"
   ]
  },
  {
   "cell_type": "code",
   "execution_count": 4,
   "metadata": {},
   "outputs": [
    {
     "name": "stdout",
     "output_type": "stream",
     "text": [
      "['Geoffrey Hinton', 'Andrew Ng', 'Sebastian Raschka', 'Yoshua Bengio', 'Hilary Mason', 'Carla Gentry', 'Corinna Cortes']\n"
     ]
    }
   ],
   "source": [
    "# Concatenate Lists:\n",
    "\n",
    "new_class = class_1 + class_2\n",
    "print(new_class)"
   ]
  },
  {
   "cell_type": "code",
   "execution_count": 5,
   "metadata": {},
   "outputs": [
    {
     "name": "stdout",
     "output_type": "stream",
     "text": [
      "['Geoffrey Hinton', 'Andrew Ng', 'Sebastian Raschka', 'Yoshua Bengio', 'Hilary Mason', 'Carla Gentry', 'Corinna Cortes', 'Peter Warden']\n"
     ]
    }
   ],
   "source": [
    "# Update the New List:\n",
    "\n",
    "new_class.append('Peter Warden')\n",
    "print(new_class)"
   ]
  },
  {
   "cell_type": "code",
   "execution_count": 7,
   "metadata": {},
   "outputs": [
    {
     "name": "stdout",
     "output_type": "stream",
     "text": [
      "['Geoffrey Hinton', 'Andrew Ng', 'Sebastian Raschka', 'Yoshua Bengio', 'Hilary Mason', 'Corinna Cortes', 'Peter Warden']\n"
     ]
    }
   ],
   "source": [
    "# Remove entry from new list:\n",
    "\n",
    "new_class.remove('Carla Gentry')\n",
    "print(new_class)"
   ]
  },
  {
   "cell_type": "markdown",
   "metadata": {},
   "source": [
    "# Grade Please!\n",
    "\n",
    "Let's create a dictionary for Geoffrey Hinton in each subject to generate his progress report."
   ]
  },
  {
   "cell_type": "markdown",
   "metadata": {},
   "source": [
    "# Instructions\n",
    "Create a dictionary named 'courses' using the keys and values given below\n",
    "\n",
    "course\tmarks\n",
    "Math\t65\n",
    "English\t70\n",
    "History\t80\n",
    "French\t70\n",
    "Science\t60\n",
    "\n",
    "See the marks obtained in each subject.\n",
    "\n",
    "Add all the marks scored out of 100 and store it in a variable named 'total'.\n",
    "\n",
    "Print 'total'.\n",
    "\n",
    "Calculate the 'percentage' scored by 'Geoffrey Hinton' where addition of all the subjects is 500.\n",
    "\n",
    "Print the 'percentage'."
   ]
  },
  {
   "cell_type": "code",
   "execution_count": 19,
   "metadata": {},
   "outputs": [
    {
     "name": "stdout",
     "output_type": "stream",
     "text": [
      "{'Math': 65, 'English': 70, 'History': 80, 'French': 70, 'Science': 60}\n"
     ]
    }
   ],
   "source": [
    "# Create a Dictionary:\n",
    "\n",
    "courses = {'Math':65,'English':70,'History':80,'French':70,'Science':60}\n",
    "print(courses)"
   ]
  },
  {
   "cell_type": "code",
   "execution_count": 20,
   "metadata": {},
   "outputs": [
    {
     "name": "stdout",
     "output_type": "stream",
     "text": [
      "345\n"
     ]
    }
   ],
   "source": [
    "# Add all Marks:\n",
    "\n",
    "total = sum(courses.values())\n",
    "print(total)"
   ]
  },
  {
   "cell_type": "code",
   "execution_count": 21,
   "metadata": {},
   "outputs": [
    {
     "name": "stdout",
     "output_type": "stream",
     "text": [
      "69.0\n"
     ]
    }
   ],
   "source": [
    "# Calculate Percentage:\n",
    "\n",
    "percentage = (total/500)*100\n",
    "print(percentage)"
   ]
  },
  {
   "cell_type": "markdown",
   "metadata": {},
   "source": [
    "# Kudos to the Math Genius!\n",
    "For the student who got the highest marks in this subject, the school has decided to award a scholarship. Let's check who performed best in mathematics from all the students who appeared for the test."
   ]
  },
  {
   "cell_type": "markdown",
   "metadata": {},
   "source": [
    "# Instructions\n",
    "Create a dictionary named 'mathematics' using the keys and values given below.\n",
    "student\tmarks\n",
    "Geoffrey Hinton\t78\n",
    "Andrew Ng\t95\n",
    "Sebastian Raschka\t65\n",
    "Yoshua Benjio\t50\n",
    "Hilary Mason\t70\n",
    "Corinna Cortes\t66\n",
    "Peter Warden\t75\n",
    "Example of max function:\n",
    "# calculate the max value\n",
    "\n",
    "max_marks_scored = max(courses,key = courses.get)\n",
    "print (max_marks_scored)\n",
    "Output\n",
    "\n",
    "History\n",
    "Find out the student with the highest marks in Mathematics and store it in a variable 'topper'."
   ]
  },
  {
   "cell_type": "code",
   "execution_count": 24,
   "metadata": {},
   "outputs": [
    {
     "name": "stdout",
     "output_type": "stream",
     "text": [
      "{'Geoffrey Hinton': 78, 'Andrew Ng': 95, 'Sebastian Raschka': 65, 'Yoshua Benjio': 50, 'Hilary Mason': 70, 'Corinna Cortes': 66, 'Peter Warden': 75}\n"
     ]
    }
   ],
   "source": [
    "# Create a Dictionary:\n",
    "\n",
    "mathematics = {'Geoffrey Hinton' : 78, 'Andrew Ng' : 95, 'Sebastian Raschka' : 65, 'Yoshua Benjio' : 50, 'Hilary Mason' : 70, 'Corinna Cortes' : 66, 'Peter Warden' : 75}\n",
    "print(mathematics)"
   ]
  },
  {
   "cell_type": "code",
   "execution_count": 26,
   "metadata": {},
   "outputs": [
    {
     "name": "stdout",
     "output_type": "stream",
     "text": [
      "95\n"
     ]
    }
   ],
   "source": [
    "# Check for the Topper:\n",
    "\n",
    "topper = max(mathematics.values())\n",
    "print(topper)"
   ]
  },
  {
   "cell_type": "markdown",
   "metadata": {},
   "source": [
    "# Scholarship Certificate\n",
    "From the previous task, we know who is the 'Maths' topper in the class. You now have to print the name of the student on the certificate, but you will have to print his last name and then his first name."
   ]
  },
  {
   "cell_type": "markdown",
   "metadata": {},
   "source": [
    "# Instructions\n",
    "String name 'topper' with the Math topper's name is given.\n",
    "Split the 'topper' using the \"split()\" function and store the results in 'first_name' and 'last_name'.\n",
    "Example of split function:\n",
    "\n",
    "Quote = \" I love data \"\n",
    "# To split the words of a sentence\n",
    "print('-'*20)\n",
    "# To access one word based on index\n",
    "print(Quote.split()[2])\n",
    "Output\n",
    "\n",
    "['I', 'love', 'data']\n",
    "--------------------\n",
    "data\n",
    "Display the full name concatenating + the strings 'last_name' and 'first_name' strings. Don't forget to add a whitespace character between them to avoid displaying them together and store it in a full_name variable .\n",
    "Convert all the elements in the 'full_name'string to uppercase, and store it to the 'certificate_name' variable.\n",
    "Print 'certificate_name'."
   ]
  },
  {
   "cell_type": "code",
   "execution_count": 27,
   "metadata": {},
   "outputs": [],
   "source": [
    "# Given string\n",
    "topper = 'andrew ng'\n"
   ]
  },
  {
   "cell_type": "code",
   "execution_count": 29,
   "metadata": {},
   "outputs": [
    {
     "name": "stdout",
     "output_type": "stream",
     "text": [
      "andrew\n",
      "ng\n"
     ]
    }
   ],
   "source": [
    "# Split the string in first and last name:\n",
    "\n",
    "first_name = topper.split()[0]\n",
    "print(first_name)\n",
    "\n",
    "last_name = topper.split()[1]\n",
    "print(last_name)"
   ]
  },
  {
   "cell_type": "code",
   "execution_count": 30,
   "metadata": {},
   "outputs": [
    {
     "name": "stdout",
     "output_type": "stream",
     "text": [
      "ng andrew\n"
     ]
    }
   ],
   "source": [
    "# Concate as last & first name:\n",
    "\n",
    "full_name = last_name + \" \" + first_name\n",
    "print(full_name)"
   ]
  },
  {
   "cell_type": "code",
   "execution_count": 31,
   "metadata": {},
   "outputs": [
    {
     "name": "stdout",
     "output_type": "stream",
     "text": [
      "NG ANDREW\n"
     ]
    }
   ],
   "source": [
    "# Convert to upper case and print certificate:\n",
    "\n",
    "certificate_name = full_name.upper()\n",
    "print(certificate_name)"
   ]
  },
  {
   "cell_type": "code",
   "execution_count": null,
   "metadata": {},
   "outputs": [],
   "source": []
  }
 ],
 "metadata": {
  "kernelspec": {
   "display_name": "Python 3",
   "language": "python",
   "name": "python3"
  },
  "language_info": {
   "codemirror_mode": {
    "name": "ipython",
    "version": 3
   },
   "file_extension": ".py",
   "mimetype": "text/x-python",
   "name": "python",
   "nbconvert_exporter": "python",
   "pygments_lexer": "ipython3",
   "version": "3.7.6"
  }
 },
 "nbformat": 4,
 "nbformat_minor": 4
}
