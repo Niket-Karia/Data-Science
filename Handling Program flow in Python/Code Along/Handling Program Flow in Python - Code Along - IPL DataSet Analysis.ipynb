{
 "cells": [
  {
   "cell_type": "markdown",
   "metadata": {},
   "source": [
    "# Handling Program Flow in Python - Code Along - IPL DataSet Analysis"
   ]
  },
  {
   "cell_type": "code",
   "execution_count": 134,
   "metadata": {},
   "outputs": [],
   "source": [
    "# Path of the File:\n",
    "\n",
    "path = \"c:/users/kruti karia/desktop/ipl_data.json\""
   ]
  },
  {
   "cell_type": "code",
   "execution_count": 135,
   "metadata": {},
   "outputs": [],
   "source": [
    "# Import Packages/Modules:\n",
    "\n",
    "import json\n",
    "import yaml\n",
    "import collections\n",
    "from collections import Counter"
   ]
  },
  {
   "cell_type": "code",
   "execution_count": 136,
   "metadata": {},
   "outputs": [],
   "source": [
    "# Read the Data:\n",
    "\n",
    "with open(path) as f:\n",
    "    \n",
    "    data = json.load(f)    "
   ]
  },
  {
   "cell_type": "code",
   "execution_count": 137,
   "metadata": {},
   "outputs": [
    {
     "name": "stdout",
     "output_type": "stream",
     "text": [
      "<class 'dict'>\n"
     ]
    }
   ],
   "source": [
    "# Check the data type:\n",
    "\n",
    "data_type = type(data)\n",
    "print(data_type)"
   ]
  },
  {
   "cell_type": "code",
   "execution_count": 138,
   "metadata": {},
   "outputs": [
    {
     "name": "stdout",
     "output_type": "stream",
     "text": [
      "The No. of Deliveries faced by SC Ganguly is 12\n"
     ]
    }
   ],
   "source": [
    "#  Can you find how many deliveries were faced by batsman  `SC Ganguly`.\n",
    "count = 0\n",
    "first_inn_deliveries = data['innings'][0]['1st innings']['deliveries']\n",
    "for delivery_faced in first_inn_deliveries:\n",
    "    for delivery_no,delivery_info in delivery_faced.items():\n",
    "        if delivery_info['batsman']=='SC Ganguly':\n",
    "            count += 1\n",
    "print(\"The No. of Deliveries faced by SC Ganguly is\",count)            "
   ]
  },
  {
   "cell_type": "code",
   "execution_count": 139,
   "metadata": {},
   "outputs": [
    {
     "name": "stdout",
     "output_type": "stream",
     "text": [
      "Man of the Match is BB McCullum\n",
      "Runs scored are 158\n"
     ]
    }
   ],
   "source": [
    "#  Who was man of the match and how many runs did he scored ?\n",
    "\n",
    "player_of_match = data['info']['player_of_match'][0]\n",
    "print(\"Man of the Match is\",player_of_match)\n",
    "\n",
    "runs = []\n",
    "first_inn_deliveries = data['innings'][0]['1st innings']['deliveries']\n",
    "for delivery_faced in first_inn_deliveries:\n",
    "    for delivery_no,delivery_info in delivery_faced.items():\n",
    "        if delivery_info['batsman'] == 'BB McCullum':\n",
    "            runs.append(delivery_info['runs']['batsman'])\n",
    "            \n",
    "print(\"Runs scored are\",sum(runs))\n",
    "        "
   ]
  },
  {
   "cell_type": "code",
   "execution_count": 140,
   "metadata": {},
   "outputs": [
    {
     "name": "stdout",
     "output_type": "stream",
     "text": [
      "Batsman who played in first inning are {'BB McCullum', 'RT Ponting', 'SC Ganguly', 'Mohammad Hafeez', 'DJ Hussey'}\n"
     ]
    }
   ],
   "source": [
    "#  Which batsman played in the first inning?\n",
    "\n",
    "batsman_list = []\n",
    "first_inn_deliveries = data['innings'][0]['1st innings']['deliveries']\n",
    "for delivery_faced in first_inn_deliveries:\n",
    "    for delivery_no,delivery_info in delivery_faced.items():\n",
    "        batsman_list.append(delivery_info['batsman'])\n",
    "print(\"Batsman who played in first inning are\",set(batsman_list))"
   ]
  },
  {
   "cell_type": "code",
   "execution_count": 141,
   "metadata": {},
   "outputs": [
    {
     "name": "stdout",
     "output_type": "stream",
     "text": [
      "Batsman who scored most no.of sixes in first innings is BB McCullum\n"
     ]
    }
   ],
   "source": [
    "# Which batsman had the most no. of sixes in first inning ?\n",
    "\n",
    "sixes = []\n",
    "\n",
    "first_inn_deliveries = data['innings'][0]['1st innings']['deliveries']\n",
    "for delivery_faced in first_inn_deliveries:\n",
    "    for delivery_no,delivery_info in delivery_faced.items():\n",
    "        if delivery_info['runs']['batsman']==6:\n",
    "            sixes.append(delivery_info['batsman'])\n",
    "print(\"Batsman who scored most no.of sixes in first innings is\",max(Counter(sixes),key=Counter(sixes).get))\n",
    "            "
   ]
  },
  {
   "cell_type": "code",
   "execution_count": 158,
   "metadata": {},
   "outputs": [
    {
     "name": "stdout",
     "output_type": "stream",
     "text": [
      "The players that got bowled in second innings are R Dravid , V Kohli , Z Khan\n"
     ]
    }
   ],
   "source": [
    "# Find the names of all players that got bowled out in the second innings.\n",
    "wickets = []\n",
    "second_inn_deliveries = data['innings'][1]['2nd innings']['deliveries']\n",
    "for delivery_faced in second_inn_deliveries:\n",
    "    for delivery_no,delivery_info in delivery_faced.items():\n",
    "        try:\n",
    "            if delivery_info['wicket']['kind']=='bowled':\n",
    "                wickets.append(delivery_info['batsman'])\n",
    "            \n",
    "        except:\n",
    "            \n",
    "            pass\n",
    "        \n",
    "print(\"The players that got bowled in second innings are\",wickets[0],',',wickets[1],',',wickets[2])\n",
    "\n",
    "        "
   ]
  },
  {
   "cell_type": "code",
   "execution_count": 208,
   "metadata": {},
   "outputs": [
    {
     "name": "stdout",
     "output_type": "stream",
     "text": [
      "Extras bowled more in second innings as compared to first innigs are 6\n"
     ]
    }
   ],
   "source": [
    "# How many more \"extras\" (wides, legbyes, etc) were bowled in the second innings as compared to the first inning?\n",
    "\n",
    "first_innings_extras = [delivery_info\n",
    "                       for delivery_faced in first_inn_deliveries\n",
    "                       for delivery_number,delivery_info in delivery_faced.items()\n",
    "                       if 'extras' in delivery_info]\n",
    "              \n",
    "second_innnings_extras = [delivery_info\n",
    "                         for delivery_faced in second_inn_deliveries\n",
    "                         for delivery_number,delivery_info in delivery_faced.items()\n",
    "                         if 'extras' in delivery_info]\n",
    "\n",
    "print(\"Extras bowled more in second innings as compared to first innigs are\",len(second_innnings_extras)-len(first_innings_extras))\n"
   ]
  }
 ],
 "metadata": {
  "kernelspec": {
   "display_name": "Python 3",
   "language": "python",
   "name": "python3"
  },
  "language_info": {
   "codemirror_mode": {
    "name": "ipython",
    "version": 3
   },
   "file_extension": ".py",
   "mimetype": "text/x-python",
   "name": "python",
   "nbconvert_exporter": "python",
   "pygments_lexer": "ipython3",
   "version": "3.7.6"
  }
 },
 "nbformat": 4,
 "nbformat_minor": 4
}
