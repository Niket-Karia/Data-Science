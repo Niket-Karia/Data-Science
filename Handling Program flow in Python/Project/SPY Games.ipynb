{
 "cells": [
  {
   "cell_type": "markdown",
   "metadata": {},
   "source": [
    "# Project : Spy Games"
   ]
  },
  {
   "cell_type": "markdown",
   "metadata": {},
   "source": [
    "# Message Reading\n",
    "\n",
    "Message Reading\n",
    "The first thing you have to do is to write a function that reads the contents of the files that we have.\n",
    "\n",
    "Instructions:\n",
    "The path for file has been stored in a variable file_path\n",
    "\n",
    "Write a function \"read_file()\" that :\n",
    "\n",
    "Takes 'path' as a parameter.\n",
    "\n",
    "Opens the file associated with the 'path' in the read-only mode ('r') and store it in a variable file.\n",
    "\n",
    "Reads the content(first line) of the file and stores it in a variable called 'sentence'\n",
    "\n",
    "Closes the file\n",
    "\n",
    "Returns 'sentence'\n",
    "\n",
    "Parameters :\n",
    "\n",
    "parameter\tdtype\tArgument Type\tdefault value\tdescription\n",
    "path\tstring\tcompulsory\t\tpath of the file location\n",
    "Returns:\n",
    "\n",
    "returns\tdtype\tdescription\n",
    "sentence\tstring\tSentence in the file\n",
    "Call the function \"read_file()\" with 'file_path' as input parameter and store the result in a variable called 'sample_message'\n"
   ]
  },
  {
   "cell_type": "code",
   "execution_count": 7,
   "metadata": {},
   "outputs": [],
   "source": [
    "# File Path for the file:\n",
    "\n",
    "file_path = \"c:/users/kruti karia/desktop/file.txt\""
   ]
  },
  {
   "cell_type": "code",
   "execution_count": 8,
   "metadata": {},
   "outputs": [],
   "source": [
    "#Function to Read the File:\n",
    "\n",
    "def read_file(path):\n",
    "    \n",
    "# Open the File:    \n",
    "    file = open(path,'r')\n",
    "    \n",
    "# Read the File:    \n",
    "    sentence = file.readline()\n",
    "    \n",
    "# Close the File:    \n",
    "    file.close()\n",
    "    \n",
    "# Return the Sentence:    \n",
    "    return sentence\n",
    "    \n",
    "    "
   ]
  },
  {
   "cell_type": "code",
   "execution_count": 9,
   "metadata": {},
   "outputs": [
    {
     "name": "stdout",
     "output_type": "stream",
     "text": [
      "This is a sample message.\n"
     ]
    }
   ],
   "source": [
    "# Call the function to read the data:\n",
    "\n",
    "sample_message = read_file(file_path)\n",
    "print(sample_message)"
   ]
  },
  {
   "cell_type": "markdown",
   "metadata": {},
   "source": [
    "# Message Fusion\n",
    "In this task, you have to make use of messages of two different files. In the two files, we have one number each. You have to apply a certain operation to extract our message.\n",
    "\n",
    "Instructions:\n",
    "Path for the two files that you will require for this task has been stored in variables file_path_1 and file_path_2\n",
    "\n",
    "Call the function read_file() written in the previous task for file_path_1 & file_path_2 and store their message sentences in variables message_1 and message_2 respectively.\n",
    "\n",
    "Print message_1 and message_2 to see what they contain.\n",
    "\n",
    "Write a function fuse_msg() that :\n",
    "\n",
    "Takes message_a and message_b as parameters\n",
    "\n",
    "Implements integer(floor) division of message_b over message_a(Don't forget to make messages as int before applying floor division) and stores the quotient in a variable called quotient\n",
    "\n",
    "Returns quotient in string format.\n",
    "\n",
    "[Note you can convert any variable 'a' to string using str(a)]\n",
    "\n",
    "Parameters :\n",
    "\n",
    "parameter\tdtype\tArgument Type\tdefault value\tdescription\n",
    "message_a\tstring\tcompulsory\t\tmessage from the first text file\n",
    "message_b\tstring\tcompulsory\t\tmessage from the second text file\n",
    "Returns:\n",
    "\n",
    "returns\tdtype\tdescription\n",
    "quotient\tstring\tquotient of the integer division\n",
    "Call the function fuse_msg() with message_1 & message_2 and store the result of it in a variable called secret_msg_1\n"
   ]
  },
  {
   "cell_type": "code",
   "execution_count": 14,
   "metadata": {},
   "outputs": [],
   "source": [
    "# File Paths:\n",
    "\n",
    "file_path_1 = \"c:/users/kruti karia/desktop/file_path_1.txt\"\n",
    "\n",
    "file_path_2 = \"c:/users/kruti karia/desktop/file_path_2.txt\""
   ]
  },
  {
   "cell_type": "code",
   "execution_count": 15,
   "metadata": {},
   "outputs": [
    {
     "name": "stdout",
     "output_type": "stream",
     "text": [
      "2222\n",
      "2477\n"
     ]
    }
   ],
   "source": [
    "# Read the Files:\n",
    "\n",
    "message_1 = read_file(file_path_1)\n",
    "\n",
    "message_2 = read_file(file_path_2)\n",
    "\n",
    "print(message_1)\n",
    "\n",
    "print(message_2)"
   ]
  },
  {
   "cell_type": "code",
   "execution_count": 21,
   "metadata": {},
   "outputs": [],
   "source": [
    "# Define a Function:\n",
    "\n",
    "def fuse_msg(message_a,message_b):\n",
    "    \n",
    "    quotient = int(message_b)//int(message_a)\n",
    "    \n",
    "    return str(quotient)"
   ]
  },
  {
   "cell_type": "code",
   "execution_count": 22,
   "metadata": {},
   "outputs": [
    {
     "name": "stdout",
     "output_type": "stream",
     "text": [
      "1\n"
     ]
    }
   ],
   "source": [
    "# Calling the Function:\n",
    "\n",
    "secret_msg_1 = fuse_msg(message_1,message_2)\n",
    "print(secret_msg_1)"
   ]
  },
  {
   "cell_type": "markdown",
   "metadata": {},
   "source": [
    "# Message Substitution\n",
    "In this task, you have to substitute the message of the file for a secret message.\n",
    "\n",
    "Instructions:\n",
    "Path for the file that you will require for this task has been stored in variables file_path_3\n",
    "\n",
    "Call the function read_file() for file_path_3 and store its message sentences in variables message_3\n",
    "\n",
    "Print message_3 to see what it contains.\n",
    "\n",
    "Write a function substitute_msg() that :\n",
    "\n",
    "Takes message_c as a parameter\n",
    "\n",
    "Creates a new variable 'sub' and in it stores\n",
    "\n",
    "      'Army General' if message_c is 'Red'\n",
    "      'Data Scientist' if message_c is 'Green'\n",
    "      'Marine Biologist' if message_c is 'Blue'\n",
    "Returns 'sub'\n",
    "\n",
    "Parameters :\n",
    "\n",
    "parameter\tdtype\tArgument Type\tdefault value\tdescription\n",
    "message_c\tstring\tcompulsory\t\tmessage from the text file\n",
    "Returns:\n",
    "\n",
    "returns\tdtype\tdescription\n",
    "sub\tstring\tword according to the condition given\n",
    "Call the function \"substitute_msg()\" with 'message_3' and store the result of it in a variable called 'secret_msg_2'\n"
   ]
  },
  {
   "cell_type": "code",
   "execution_count": 24,
   "metadata": {},
   "outputs": [],
   "source": [
    "# File path:\n",
    "\n",
    "file_path_3 = \"c:/users/kruti karia/desktop/file_path_3.txt\""
   ]
  },
  {
   "cell_type": "code",
   "execution_count": 25,
   "metadata": {},
   "outputs": [
    {
     "name": "stdout",
     "output_type": "stream",
     "text": [
      "Green\n"
     ]
    }
   ],
   "source": [
    "# Read the File:\n",
    "\n",
    "message_3 = read_file(file_path_3)\n",
    "print(message_3)"
   ]
  },
  {
   "cell_type": "code",
   "execution_count": 31,
   "metadata": {},
   "outputs": [],
   "source": [
    "# Define a Function:\n",
    "\n",
    "def substitute_msg(message_c):\n",
    "    if message_c == 'Red':\n",
    "       sub = 'Army General'\n",
    "    elif message_c == 'Green':\n",
    "         sub = 'Data Scientist'\n",
    "    elif message_c == 'Blue':\n",
    "         sub = 'Marine Biologist'\n",
    "    return sub\n",
    "\n"
   ]
  },
  {
   "cell_type": "code",
   "execution_count": 32,
   "metadata": {},
   "outputs": [
    {
     "name": "stdout",
     "output_type": "stream",
     "text": [
      "Data Scientist\n"
     ]
    }
   ],
   "source": [
    "# Call the Function:\n",
    "\n",
    "secret_msg_2 = substitute_msg(message_3)\n",
    "print(secret_msg_2)"
   ]
  },
  {
   "cell_type": "markdown",
   "metadata": {},
   "source": [
    "# Message Comparision\n",
    "In this task, you have to make use of messages from two different files. You have to compare the two messages and take only those words that appear in first message but not in second message.\n",
    "\n",
    "Instructions:\n",
    "Path for the two files that you will require for this task has been stored in variables file_path_4 and file_path_5\n",
    "\n",
    "Call the function read_file() for file_path_4 & file_path_5 and store their message sentences in variables message_4 and message_5 respectively\n",
    "\n",
    "Print message_4 and message_5 to see what they contain.\n",
    "\n",
    "Write a function compare_msg() that :\n",
    "\n",
    "Takes message_d and message_e as parameters\n",
    "Breaks down the sentences in message_d & message_e into words using split() function and stores them in a_list & b_list respectively\n",
    "\n",
    "Stores all the words that are there in a_list but not in b_list in a new list called c_list\n",
    "\n",
    "Combines the words of c_list back to a sentence using join() and stores it in a variable called final_msg and returns it\n",
    "\n",
    "  Example of join function :\n",
    "Word_List=['I', 'love', 'data']\n",
    "Sentence= \" \".join(Word_List)\n",
    "print('Sentence=', Sentence)\n",
    "Output\n",
    "\n",
    "'Sentence= I love data'\n",
    "   \n",
    "Parameters :\n",
    "\n",
    "parameter\tdtype\tArgument Type\tdefault value\tdescription\n",
    "message_d\tstring\tcompulsory\t\tmessage from the first text file\n",
    "message_e\tstring\tcompulsory\t\tmessage from the second text file\n",
    "Returns:\n",
    "\n",
    "returns\tdtype\tdescription\n",
    "final_msg\tstring\tSentence after applying all the above operations\n",
    "Call the function \"compare_msg()\" with 'message_4' & 'message_5' and store the result of it in a variable called 'secret_msg_3'\n"
   ]
  },
  {
   "cell_type": "code",
   "execution_count": 33,
   "metadata": {},
   "outputs": [],
   "source": [
    "# File Path:\n",
    "\n",
    "file_path_4 = \"c:/users/kruti karia/desktop/file_path_4.txt\"\n",
    "\n",
    "file_path_5 = \"c:/users/kruti karia/desktop/file_path_5.txt\""
   ]
  },
  {
   "cell_type": "code",
   "execution_count": 34,
   "metadata": {},
   "outputs": [
    {
     "name": "stdout",
     "output_type": "stream",
     "text": [
      "I hope you are good now\n",
      "I hope good things happen in your life.\n"
     ]
    }
   ],
   "source": [
    "# Read the File:\n",
    "\n",
    "message_4 = read_file(file_path_4)\n",
    "\n",
    "message_5 = read_file(file_path_5)\n",
    "\n",
    "print(message_4)\n",
    "\n",
    "print(message_5)"
   ]
  },
  {
   "cell_type": "code",
   "execution_count": 42,
   "metadata": {},
   "outputs": [],
   "source": [
    "# Define Function:\n",
    "\n",
    "def compare_msg(message_d,message_e):\n",
    "    \n",
    "    a_list = message_d.split()\n",
    "    \n",
    "    b_list = message_e.split()\n",
    "    \n",
    "    c_list = [i for i in a_list if i not in b_list]\n",
    "    \n",
    "    final_msg = \" \".join(c_list)\n",
    "    \n",
    "    return final_msg"
   ]
  },
  {
   "cell_type": "code",
   "execution_count": 43,
   "metadata": {},
   "outputs": [
    {
     "name": "stdout",
     "output_type": "stream",
     "text": [
      "you are now\n"
     ]
    }
   ],
   "source": [
    "# Call the Function:\n",
    "\n",
    "secret_msg_3 = compare_msg(message_4,message_5)\n",
    "print(secret_msg_3)"
   ]
  },
  {
   "cell_type": "markdown",
   "metadata": {},
   "source": [
    "# Message Filter\n",
    "In this task, you have to extract only those words from the message in the file that are of even length.\n",
    "\n",
    "Instructions:\n",
    "Path for the file that you will require for this task has been stored in variables file_path_6\n",
    "\n",
    "Call the function read_file() for file_path_6 and store its message sentence in variables message_6\n",
    "\n",
    "Print message_6 to see what it contains.\n",
    "\n",
    "Write a function extract_msg() that :\n",
    "\n",
    "Takes message_f as a parameter\n",
    "\n",
    "Breaks down the sentence in message_f into words and stores them in a_list\n",
    "\n",
    "Creates a lambda function called even_word with the condition that will return true if length of x (lambda function variable) is even\n",
    "\n",
    "Implements filter() function with function parameter as even_word and sequence parameter as a_list and stores the result of it in a variable called b_list\n",
    "\n",
    "Combines the words of b_list back to a sentence and stores it in a variable called final_msg and returns it\n",
    "\n",
    "Parameters :\n",
    "\n",
    "parameter\tdtype\tArgument Type\tdefault value\tdescription\n",
    "message_f\tstring\tcompulsory\t\tmessage from the text file\n",
    "Returns:\n",
    "\n",
    "returns\tdtype\tdescription\n",
    "final_msg\tstring\tSentence after applying all the above operations\n",
    "Call the function \"extract_msg()\" with 'message_6' and store the result of it in a variable called 'secret_msg_4'\n"
   ]
  },
  {
   "cell_type": "code",
   "execution_count": 44,
   "metadata": {},
   "outputs": [],
   "source": [
    "# Path of File:\n",
    "\n",
    "file_path_6 = \"c:/users/kruti karia/desktop/file_path_6.txt\""
   ]
  },
  {
   "cell_type": "code",
   "execution_count": 45,
   "metadata": {},
   "outputs": [
    {
     "name": "stdout",
     "output_type": "stream",
     "text": [
      "The man was one step closer towards his quest to become a spy\n"
     ]
    }
   ],
   "source": [
    "# Read the File:\n",
    "\n",
    "message_6 = read_file(file_path_6)\n",
    "print(message_6)"
   ]
  },
  {
   "cell_type": "code",
   "execution_count": 47,
   "metadata": {},
   "outputs": [],
   "source": [
    "# Define a Funciton:\n",
    "\n",
    "def extract_msg(message_f):\n",
    "    \n",
    "    a_list = message_f.split()\n",
    "    \n",
    "    even_word = lambda x : (len(x)%2==0)\n",
    "    \n",
    "    b_list = filter(even_word,a_list)\n",
    "    \n",
    "    final_msg = \" \".join(b_list)\n",
    "    \n",
    "    return final_msg"
   ]
  },
  {
   "cell_type": "code",
   "execution_count": 48,
   "metadata": {},
   "outputs": [
    {
     "name": "stdout",
     "output_type": "stream",
     "text": [
      "step closer to become\n"
     ]
    }
   ],
   "source": [
    "# Call the Function:\n",
    "\n",
    "secret_msg_4 = extract_msg(message_6)\n",
    "print(secret_msg_4)"
   ]
  }
 ],
 "metadata": {
  "kernelspec": {
   "display_name": "Python 3",
   "language": "python",
   "name": "python3"
  },
  "language_info": {
   "codemirror_mode": {
    "name": "ipython",
    "version": 3
   },
   "file_extension": ".py",
   "mimetype": "text/x-python",
   "name": "python",
   "nbconvert_exporter": "python",
   "pygments_lexer": "ipython3",
   "version": "3.7.6"
  }
 },
 "nbformat": 4,
 "nbformat_minor": 4
}
