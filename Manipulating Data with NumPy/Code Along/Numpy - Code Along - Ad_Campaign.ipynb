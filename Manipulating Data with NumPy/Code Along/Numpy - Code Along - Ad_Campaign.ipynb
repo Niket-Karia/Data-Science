{
 "cells": [
  {
   "cell_type": "markdown",
   "metadata": {},
   "source": [
    "# Code Along - Sales Campaign Analysis"
   ]
  },
  {
   "cell_type": "code",
   "execution_count": 12,
   "metadata": {},
   "outputs": [],
   "source": [
    "# Import Packages/Modules:\n",
    "\n",
    "import numpy as np\n",
    "import sys\n",
    "import warnings\n",
    "from collections import Counter"
   ]
  },
  {
   "cell_type": "code",
   "execution_count": 13,
   "metadata": {},
   "outputs": [],
   "source": [
    "# Path for the Dataset:\n",
    "\n",
    "path = \"c:/users/kruti karia/desktop/Ads.csv\""
   ]
  },
  {
   "cell_type": "code",
   "execution_count": 28,
   "metadata": {},
   "outputs": [],
   "source": [
    "# Read the Data:\n",
    "\n",
    "data = np.genfromtxt(path,delimiter = ',',skip_header = True,dtype = str)"
   ]
  },
  {
   "cell_type": "code",
   "execution_count": 29,
   "metadata": {},
   "outputs": [
    {
     "name": "stdout",
     "output_type": "stream",
     "text": [
      "(1143, 11)\n",
      "2\n"
     ]
    }
   ],
   "source": [
    "# Data Attributes:\n",
    "\n",
    "print(data.shape)\n",
    "\n",
    "print(data.ndim)"
   ]
  },
  {
   "cell_type": "code",
   "execution_count": 30,
   "metadata": {},
   "outputs": [],
   "source": [
    "# Command to display all the columns of a numpy array\n",
    "\n",
    "np.set_printoptions(threshold=sys.maxsize)\n"
   ]
  },
  {
   "cell_type": "code",
   "execution_count": 158,
   "metadata": {},
   "outputs": [
    {
     "name": "stdout",
     "output_type": "stream",
     "text": [
      "Unique ad campaings data contains is 1178 , 916 , 936\n",
      "The No. fo times each ad campaing was run is Counter({'1178': 625, '936': 464, '916': 54})\n"
     ]
    }
   ],
   "source": [
    "# How many unique ad campaigns (xyz_campaign_id) does this data contain ? And for how many times was each campaign run ?\n",
    "\n",
    "ad_camp = data[:,1]\n",
    "ad_camp = np.unique(ad_camp)\n",
    "print(\"Unique ad campaings data contains is\",ad_camp[0],',',ad_camp[1],',',ad_camp[2])\n",
    "\n",
    "ad_camps = data[:,1]\n",
    "ad_camps = Counter(ad_camps)\n",
    "print(\"The No. fo times each ad campaing was run is\",ad_camps)"
   ]
  },
  {
   "cell_type": "code",
   "execution_count": 157,
   "metadata": {},
   "outputs": [
    {
     "name": "stdout",
     "output_type": "stream",
     "text": [
      "The age group that were targetd through these ad campaigns are 30-34 , 35-39 , 40-44 , 45-49\n"
     ]
    }
   ],
   "source": [
    "# What are the age groups that were targeted through these ad campaigns?\n",
    "\n",
    "age_group = np.unique(data[:,3])\n",
    "print(\"The age group that were targetd through these ad campaigns are\",age_group[0],',',age_group[1],',',age_group[2],',',age_group[3])\n"
   ]
  },
  {
   "cell_type": "code",
   "execution_count": 84,
   "metadata": {},
   "outputs": [
    {
     "name": "stdout",
     "output_type": "stream",
     "text": [
      "The avg. amount spend on ads is 51.36065613141295\n",
      "The max. amount spend on ads is 639.9499981\n",
      "The min. amount spend on ads is 0.0\n"
     ]
    }
   ],
   "source": [
    "# What was the average, minimum and maximum amount spent on the ads?\n",
    "\n",
    "amount_spend = data[:,-3]\n",
    "\n",
    "amount_spend = amount_spend.astype(float)\n",
    "\n",
    "print(\"The avg. amount spend on ads is\",np.mean(amount_spend))\n",
    "\n",
    "print(\"The max. amount spend on ads is\",np.max(amount_spend))\n",
    "\n",
    "print(\"The min. amount spend on ads is\",np.min(amount_spend))"
   ]
  },
  {
   "cell_type": "code",
   "execution_count": 162,
   "metadata": {},
   "outputs": [
    {
     "name": "stdout",
     "output_type": "stream",
     "text": [
      "Ad id having max. no of clicks is 1121814\n"
     ]
    }
   ],
   "source": [
    "# What is the id of the ad having the maximum number of clicks ?\n",
    "\n",
    "max_clicks = data[:,7].astype(int)\n",
    "max_value = np.max(max_clicks)\n",
    "ad_id_max_value = data[:,0][data[:,7].astype(int)==max_value]\n",
    "print(\"Ad id having max. no of clicks is\",ad_id_max_value[0])"
   ]
  },
  {
   "cell_type": "code",
   "execution_count": 167,
   "metadata": {},
   "outputs": [
    {
     "name": "stdout",
     "output_type": "stream",
     "text": [
      "Number of people who bought the product having maximum ad clicks is  13\n",
      "The maximum number of purchases was  21\n"
     ]
    }
   ],
   "source": [
    "# How many people bought the product after seeing the ad with most clicks? Is that the maximum number of purchases in this dataset?\n",
    "\n",
    "max_sales = int(data[:,-1][data[:,0]==ad_id_max_value])\n",
    "print('Number of people who bought the product having maximum ad clicks is ',max_sales)\n",
    "\n",
    "max_purchases = data[:,-1].astype(int).max()\n",
    "\n",
    "if (max_sales >= max_purchases):\n",
    "    print(\"The maximum sales were on this product\")\n",
    "elif (max_sales <= max_purchases):\n",
    "    print('The maximum number of purchases was ',max_purchases)\n",
    "\n",
    "\n"
   ]
  },
  {
   "cell_type": "code",
   "execution_count": 175,
   "metadata": {},
   "outputs": [
    {
     "name": "stdout",
     "output_type": "stream",
     "text": [
      "The ad id for the product having maximum number of purchases is 1121104\n"
     ]
    }
   ],
   "source": [
    "# So the ad with the most clicks didn't fetch the maximum number of purchases. Let's find the details of the product having maximum number of purchases\n",
    "max_purchases = data[:,0][data[:,-1].astype(int) == data[:,-1].astype(int).max()]\n",
    "\n",
    "print(\"The ad id for the product having maximum number of purchases is\",max_purchases[0])\n",
    "\n"
   ]
  },
  {
   "cell_type": "code",
   "execution_count": 184,
   "metadata": {},
   "outputs": [
    {
     "name": "stdout",
     "output_type": "stream",
     "text": [
      "(1143,)\n",
      "(1143, 12)\n",
      "(1143, 1)\n",
      "(1143, 13)\n"
     ]
    }
   ],
   "source": [
    "# Create a new numpy array to calculate CTR & add to the exsisting array:\n",
    "\n",
    "CTR = np.array((data[:,7].astype(float)/data[:,6].astype(float))*100)\n",
    "\n",
    "# CTR Atrributes:\n",
    "\n",
    "print(CTR.shape)\n",
    "\n",
    "# Check original Data Attributes:\n",
    "\n",
    "print(data.shape)\n",
    "\n",
    "#Reshape the CTR as per original Data:\n",
    "\n",
    "CTR = CTR.reshape(-1,1)\n",
    "\n",
    "# Check CTR Attribute:\n",
    "\n",
    "print(CTR.shape)\n",
    "\n",
    "# Concate the CTR with Original Data:\n",
    "\n",
    "data = np.concatenate((data,CTR),axis=1)\n",
    "\n",
    "# Check New Data Attribute:\n",
    "\n",
    "print(data.shape)\n"
   ]
  },
  {
   "cell_type": "code",
   "execution_count": 185,
   "metadata": {},
   "outputs": [
    {
     "name": "stdout",
     "output_type": "stream",
     "text": [
      "(1143,)\n",
      "(1143, 13)\n",
      "(1143, 1)\n",
      "(1143, 14)\n"
     ]
    }
   ],
   "source": [
    "# Create a new numpy array to calculate CPM & add to the exsisting array:\n",
    "\n",
    "CPM = np.array((data[:,8].astype(float)/data[:,6].astype(float))*100)\n",
    "\n",
    "# CPM Atrributes:\n",
    "\n",
    "print(CPM.shape)\n",
    "\n",
    "# Check original Data Attributes:\n",
    "\n",
    "print(data.shape)\n",
    "\n",
    "#Reshape the CPM as per original Data:\n",
    "\n",
    "CPM = CPM.reshape(-1,1)\n",
    "\n",
    "# Check CPM Attribute:\n",
    "\n",
    "print(CPM.shape)\n",
    "\n",
    "# Concate the CPM with Original Data:\n",
    "\n",
    "data = np.concatenate((data,CPM),axis=1)\n",
    "\n",
    "# Check New Data Attribute:\n",
    "\n",
    "print(data.shape)\n"
   ]
  }
 ],
 "metadata": {
  "kernelspec": {
   "display_name": "Python 3",
   "language": "python",
   "name": "python3"
  },
  "language_info": {
   "codemirror_mode": {
    "name": "ipython",
    "version": 3
   },
   "file_extension": ".py",
   "mimetype": "text/x-python",
   "name": "python",
   "nbconvert_exporter": "python",
   "pygments_lexer": "ipython3",
   "version": "3.7.6"
  }
 },
 "nbformat": 4,
 "nbformat_minor": 4
}
