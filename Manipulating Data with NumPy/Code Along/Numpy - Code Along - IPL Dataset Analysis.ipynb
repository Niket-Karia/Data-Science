{
 "cells": [
  {
   "cell_type": "markdown",
   "metadata": {},
   "source": [
    "# Code Along - Numpy - IPL Dataset Analysis"
   ]
  },
  {
   "cell_type": "code",
   "execution_count": 1,
   "metadata": {},
   "outputs": [],
   "source": [
    "# Path for the Data:\n",
    "\n",
    "path = \"c:/users/kruti karia/desktop/ipl_small.csv\""
   ]
  },
  {
   "cell_type": "code",
   "execution_count": 110,
   "metadata": {},
   "outputs": [],
   "source": [
    "# Import Packages/Modules:\n",
    "\n",
    "import numpy as np\n",
    "\n",
    "from collections import Counter"
   ]
  },
  {
   "cell_type": "code",
   "execution_count": 9,
   "metadata": {},
   "outputs": [],
   "source": [
    "# Read the Data:\n",
    "\n",
    "ipl_data = np.genfromtxt(path,delimiter=',',skip_header = True,dtype = str) "
   ]
  },
  {
   "cell_type": "code",
   "execution_count": 12,
   "metadata": {},
   "outputs": [
    {
     "name": "stdout",
     "output_type": "stream",
     "text": [
      "(1451, 23)\n",
      "2\n"
     ]
    }
   ],
   "source": [
    "# Data Attributes:\n",
    "\n",
    "print(ipl_data.shape)\n",
    "\n",
    "print(ipl_data.ndim)"
   ]
  },
  {
   "cell_type": "code",
   "execution_count": 24,
   "metadata": {},
   "outputs": [
    {
     "name": "stdout",
     "output_type": "stream",
     "text": [
      "The No.of unique matches played is 6\n"
     ]
    }
   ],
   "source": [
    "# Number of unique matches:\n",
    "\n",
    "unique_matches = ipl_data[:,0]\n",
    "unique_matches = set(unique_matches)\n",
    "print(\"The No.of unique matches played is\",len(unique_matches))"
   ]
  },
  {
   "cell_type": "code",
   "execution_count": 43,
   "metadata": {},
   "outputs": [
    {
     "name": "stdout",
     "output_type": "stream",
     "text": [
      "The unique teams that played matches in data set are Kings XI Punjab , Kolkata Knight Riders , Deccan Chargers , Chennai Super Kings , Pune Warriors , Rajasthan Royals , Mumbai Indians\n"
     ]
    }
   ],
   "source": [
    "# Number of unique teams\n",
    "\n",
    "team_1 = list(ipl_data[:,3])\n",
    "\n",
    "team_2 = list(ipl_data[:,4])\n",
    "\n",
    "combined_teams = list(set(team_1 + team_2))\n",
    "print(\"The unique teams that played matches in data set are\",combined_teams[0],',',combined_teams[1],',',combined_teams[2],',',combined_teams[3],',',combined_teams[4],',',combined_teams[5],',',combined_teams[6])\n"
   ]
  },
  {
   "cell_type": "code",
   "execution_count": 59,
   "metadata": {},
   "outputs": [
    {
     "name": "stdout",
     "output_type": "stream",
     "text": [
      "The sum of all extras in all deliveries in all matches is 88\n"
     ]
    }
   ],
   "source": [
    "# Sum of all extras\n",
    "\n",
    "extras = ipl_data[:,-6]\n",
    "print(\"The sum of all extras in all deliveries in all matches is\",sum(map(int,extras)))"
   ]
  },
  {
   "cell_type": "code",
   "execution_count": 88,
   "metadata": {},
   "outputs": [
    {
     "name": "stdout",
     "output_type": "stream",
     "text": [
      "For ST Jayasuriya the delivery no and wicket kind is as below \n",
      " [['3.2' 'caught']\n",
      " ['14.4' 'caught']\n",
      " ['1.4' 'caught']]\n"
     ]
    }
   ],
   "source": [
    " # Get the array of all delivery numbers when a given player got out. Also mention the wicket type.\n",
    "\n",
    "given_batsman = 'ST Jayasuriya'\n",
    "\n",
    "is_out = ipl_data[:,-3] == given_batsman\n",
    "\n",
    "output_data = ipl_data[:,[11,-2]]\n",
    "print(\"For\",given_batsman, \"the delivery no and wicket kind is as below \\n\",output_data[is_out])\n"
   ]
  },
  {
   "cell_type": "code",
   "execution_count": 105,
   "metadata": {},
   "outputs": [
    {
     "name": "stdout",
     "output_type": "stream",
     "text": [
      "No.of times team Mumbai Indians has won the toss is 2\n"
     ]
    }
   ],
   "source": [
    "# Number of times Mumbai Indians won the toss\n",
    "\n",
    "toss_winner_team = ipl_data[:,5] == 'Mumbai Indians'\n",
    "\n",
    "match_no = ipl_data[:,0][toss_winner_team]\n",
    "print(\"No.of times team Mumbai Indians has won the toss is\",len(set(match_no)))"
   ]
  },
  {
   "cell_type": "code",
   "execution_count": 116,
   "metadata": {},
   "outputs": [
    {
     "name": "stdout",
     "output_type": "stream",
     "text": [
      "Batsman who Scored Maximum Sixes is SR Tendulkar\n"
     ]
    }
   ],
   "source": [
    "# Filter record where batsman scored six and player with most number of sixex\n",
    "\n",
    "runs_data = ipl_data[:,-7] == '6'\n",
    "\n",
    "batsman_data = Counter(ipl_data[runs_data,-10])\n",
    "\n",
    "max_sixes = max(batsman_data,key = batsman_data.get)\n",
    "print(\"Batsman who Scored Maximum Sixes is\",max_sixes)"
   ]
  }
 ],
 "metadata": {
  "kernelspec": {
   "display_name": "Python 3",
   "language": "python",
   "name": "python3"
  },
  "language_info": {
   "codemirror_mode": {
    "name": "ipython",
    "version": 3
   },
   "file_extension": ".py",
   "mimetype": "text/x-python",
   "name": "python",
   "nbconvert_exporter": "python",
   "pygments_lexer": "ipython3",
   "version": "3.7.6"
  }
 },
 "nbformat": 4,
 "nbformat_minor": 4
}
