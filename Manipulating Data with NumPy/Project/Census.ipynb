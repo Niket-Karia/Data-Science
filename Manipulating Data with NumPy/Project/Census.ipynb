{
 "cells": [
  {
   "cell_type": "markdown",
   "metadata": {},
   "source": [
    "# Project: Make Sense of Census"
   ]
  },
  {
   "cell_type": "markdown",
   "metadata": {},
   "source": [
    "# Data Reading\n",
    "In this first task, we will load the data to a numpy array and add a new record to it.\n",
    "\n",
    "Instructions :\n",
    "The path to the data set has been stored in the variable named path\n",
    "Load the dataset and store it in a variable called data using np.genfromtxt()\n",
    "   Example of genfromtxt function\n",
    "data_file='file.csv' # path for the file\n",
    "data=np.genfromtxt(data_file, delimiter=\",\", skip_header=1)\n",
    "\n",
    "print(\"\\nData: \\n\\n\", data)\n",
    "\n",
    "print(\"\\nType of data: \\n\\n\", type(data))\n",
    "Output\n",
    "\n",
    "Data: \n",
    "\n",
    "[[39. 13.  4. ...  0. 40.  0.]\n",
    " [50. 13.  4. ...  0. 13.  0.]\n",
    " [38.  9.  4. ...  0. 40.  0.]\n",
    " ...\n",
    " [48. 13.  4. ...  0. 58.  1.]\n",
    " [40. 10.  4. ...  0. 40.  0.]\n",
    " [39. 13.  4. ...  0. 50.  1.]]\n",
    "\n",
    "Type of data: \n",
    "\n",
    " <class 'numpy.ndarray'>\n",
    "Note:\n",
    "\n",
    "The parameter 'delimiter=\",\" ' is set because the file that we are opening has extension CSV(Comma Separated Values)\n",
    "\n",
    "The parameter 'skip_header=1' is set because the first row of the data(which is called header) contains string values but in our numpy array we need only integers(Remember numpy array can only store data of a single data type)\n",
    "\n",
    "Append 'new_record' (given) to 'data' using \"np.concatenate()\" and store the new array in a variable called census\n"
   ]
  },
  {
   "cell_type": "code",
   "execution_count": 1,
   "metadata": {},
   "outputs": [],
   "source": [
    "# Import Packages/Modules\n",
    "\n",
    "import numpy as np"
   ]
  },
  {
   "cell_type": "code",
   "execution_count": 2,
   "metadata": {},
   "outputs": [],
   "source": [
    "# Set the Path for Data:\n",
    "\n",
    "path = \"c:/users/kruti karia/desktop/census.csv\""
   ]
  },
  {
   "cell_type": "code",
   "execution_count": 7,
   "metadata": {},
   "outputs": [],
   "source": [
    "# Read the Data:\n",
    "\n",
    "data = np.genfromtxt(path,delimiter=',',skip_header=1)\n"
   ]
  },
  {
   "cell_type": "code",
   "execution_count": 8,
   "metadata": {},
   "outputs": [],
   "source": [
    "# Given Additional data:\n",
    "\n",
    "new_record=[[50,  9,  4,  1,  0,  0, 40,  0]]\n"
   ]
  },
  {
   "cell_type": "code",
   "execution_count": 11,
   "metadata": {},
   "outputs": [
    {
     "name": "stdout",
     "output_type": "stream",
     "text": [
      "[[39. 13.  4. ...  0. 40.  0.]\n",
      " [50. 13.  4. ...  0. 13.  0.]\n",
      " [38.  9.  4. ...  0. 40.  0.]\n",
      " ...\n",
      " [40. 10.  4. ...  0. 40.  0.]\n",
      " [39. 13.  4. ...  0. 50.  1.]\n",
      " [50.  9.  4. ...  0. 40.  0.]]\n"
     ]
    }
   ],
   "source": [
    "# Append the new data:\n",
    "\n",
    "census = np.concatenate((data,new_record),axis=0)\n",
    "print(census)"
   ]
  },
  {
   "cell_type": "code",
   "execution_count": 12,
   "metadata": {},
   "outputs": [
    {
     "name": "stdout",
     "output_type": "stream",
     "text": [
      "(1001, 8)\n"
     ]
    }
   ],
   "source": [
    "# Check the shape:\n",
    "\n",
    "print(census.shape)"
   ]
  },
  {
   "cell_type": "markdown",
   "metadata": {},
   "source": [
    "# Young Country? Old Country?\n",
    "We often associate the potential of a country based on the age distribution of the people residing there. We too want to do a simple analysis of the age distribution\n",
    "\n",
    "Instructions :\n",
    "Create a new array called 'age' by taking only age column(age is the column with index 0) of 'census' array.\n",
    "\n",
    "Find the max age and store it in a variable called 'max_age'.\n",
    "\n",
    "Find the min age and store it in a variable called 'min_age'.\n",
    "\n",
    "Find the mean of the age and store it in a variable called 'age_mean'.\n",
    "\n",
    "Find the standard deviation of the age and store it in a variable called 'age_std'.\n",
    "\n",
    "Ponder whether based on the above statistics, would you classify the country as 'young' or 'old'?\n"
   ]
  },
  {
   "cell_type": "code",
   "execution_count": 13,
   "metadata": {},
   "outputs": [
    {
     "name": "stdout",
     "output_type": "stream",
     "text": [
      "[39. 50. 38. ... 40. 39. 50.]\n"
     ]
    }
   ],
   "source": [
    "# Create a new array:\n",
    "\n",
    "age = census[:,0]\n",
    "print(age)"
   ]
  },
  {
   "cell_type": "code",
   "execution_count": 14,
   "metadata": {},
   "outputs": [
    {
     "name": "stdout",
     "output_type": "stream",
     "text": [
      "90.0\n"
     ]
    }
   ],
   "source": [
    "# Calculate max age:\n",
    "\n",
    "max_age = np.max(age)\n",
    "print(max_age)"
   ]
  },
  {
   "cell_type": "code",
   "execution_count": 15,
   "metadata": {},
   "outputs": [
    {
     "name": "stdout",
     "output_type": "stream",
     "text": [
      "17.0\n"
     ]
    }
   ],
   "source": [
    "# Calculate min age:\n",
    "\n",
    "min_age = np.min(age)\n",
    "print(min_age)"
   ]
  },
  {
   "cell_type": "code",
   "execution_count": 16,
   "metadata": {},
   "outputs": [
    {
     "name": "stdout",
     "output_type": "stream",
     "text": [
      "38.06293706293706\n"
     ]
    }
   ],
   "source": [
    "# Calculate Mean of age:\n",
    "\n",
    "age_mean = np.mean(age)\n",
    "print(age_mean)"
   ]
  },
  {
   "cell_type": "code",
   "execution_count": 17,
   "metadata": {},
   "outputs": [
    {
     "name": "stdout",
     "output_type": "stream",
     "text": [
      "13.341478176165857\n"
     ]
    }
   ],
   "source": [
    "# Calculate Std Deviation of age:\n",
    "\n",
    "age_std = np.std(age)\n",
    "print(age_std)"
   ]
  },
  {
   "cell_type": "markdown",
   "metadata": {},
   "source": [
    "# Minority Report\n",
    "The constitution of the country tries it's best to ensure that people of all races are able to live harmoniously. Let's check the country's race distribution to identify the minorities so that the government can help them.\n",
    "\n",
    "Instructions :\n",
    "Create four different arrays by subsetting 'census' array by Race column(Race is the column with index 2) and save them in 'race_0','race_1', 'race_2', 'race_3' and 'race_4' respectively(Meaning: Store the array where 'race'column has value 0 in 'race_0', so on and so forth)\n",
    "\n",
    "Store the length of the above created arrays in 'len_0', 'len_1','len_2', 'len_3' and 'len_4' respectively\n",
    "\n",
    "Find out which is the race with the minimum no. of citizens\n",
    "\n",
    "Store the number associated with the minority race in a variable called 'minority_race'(For eg: if \"len(race_5)\" is the minimum, store 5 in 'minority_race' because that is the index of the race having the least no. of citizens )\n",
    "\n"
   ]
  },
  {
   "cell_type": "code",
   "execution_count": 20,
   "metadata": {},
   "outputs": [],
   "source": [
    "#Creating new subsets based on 'Age'\n",
    "\n",
    "race_0 = census[census[:,2]==0]\n",
    "\n",
    "race_1 = census[census[:,2]==1]\n",
    "\n",
    "race_2 = census[census[:,2]==2]\n",
    "\n",
    "race_3 = census[census[:,2]==3]\n",
    "\n",
    "race_4 = census[census[:,2]==4]"
   ]
  },
  {
   "cell_type": "code",
   "execution_count": 21,
   "metadata": {},
   "outputs": [],
   "source": [
    "#Finding the length of the above created subsets\n",
    "\n",
    "len_0 = len(race_0)\n",
    "\n",
    "len_1 = len(race_1)\n",
    "\n",
    "len_2 = len(race_2)\n",
    "\n",
    "len_3 = len(race_3)\n",
    "\n",
    "len_4 = len(race_4)"
   ]
  },
  {
   "cell_type": "code",
   "execution_count": 22,
   "metadata": {},
   "outputs": [
    {
     "name": "stdout",
     "output_type": "stream",
     "text": [
      "10\n",
      "27\n",
      "110\n",
      "6\n",
      "848\n"
     ]
    }
   ],
   "source": [
    "#Printing the length of the above created subsets\n",
    "\n",
    "print(len_0)\n",
    "print(len_1)\n",
    "print(len_2)\n",
    "print(len_3)\n",
    "print(len_4)"
   ]
  },
  {
   "cell_type": "code",
   "execution_count": 23,
   "metadata": {},
   "outputs": [
    {
     "name": "stdout",
     "output_type": "stream",
     "text": [
      "[10, 27, 110, 6, 848]\n"
     ]
    }
   ],
   "source": [
    "#Storing the different race lengths with appropriate indexes\n",
    "race_list=[len_0, len_1,len_2, len_3, len_4]\n",
    "print(race_list)"
   ]
  },
  {
   "cell_type": "code",
   "execution_count": 27,
   "metadata": {},
   "outputs": [
    {
     "data": {
      "text/plain": [
       "3"
      ]
     },
     "execution_count": 27,
     "metadata": {},
     "output_type": "execute_result"
    }
   ],
   "source": [
    "#Storing the race with minimum length into a variable \n",
    "\n",
    "minority_race = race_list.index(min(race_list))\n",
    "minority_race"
   ]
  },
  {
   "cell_type": "markdown",
   "metadata": {},
   "source": [
    "# Senior Welfare\n",
    "As per the new govt. policy, all citizens above age 60 should not be made to work more than 25 hours per week. Let us look at the data and see if that policy is followed.\n",
    "\n",
    "Instructions:\n",
    "Create a new subset array called 'senior_citizens' by filtering 'census' according to age>60 (age is the column with index 0)\n",
    "\n",
    "Add all the working hours(working hours is the column with index 6) of 'senior_citizens' and store it in a variable called 'working_hours_sum'\n",
    "\n",
    "Find the length of 'senior_citizens' and store it in a variable called 'senior_citizens_len'\n",
    "\n",
    "Finally find the average working hours of the senior citizens by dividing 'working_hours_sum' by 'senior_citizens_len' and store it in a variable called 'avg_working hours'.\n",
    "\n",
    "Print 'avg_working_hours' and see if the govt. policy is followed.\n",
    "\n"
   ]
  },
  {
   "cell_type": "code",
   "execution_count": 28,
   "metadata": {},
   "outputs": [],
   "source": [
    "#Subsetting the array based on the age \n",
    "\n",
    "senior_citizens = census[census[:,0]>60]"
   ]
  },
  {
   "cell_type": "code",
   "execution_count": 34,
   "metadata": {},
   "outputs": [
    {
     "name": "stdout",
     "output_type": "stream",
     "text": [
      "1917.0\n"
     ]
    }
   ],
   "source": [
    "#Calculating the sum of all the values of array\n",
    "\n",
    "working_hours_sum = senior_citizens.sum(axis=0)[6]\n",
    "print(working_hours_sum)"
   ]
  },
  {
   "cell_type": "code",
   "execution_count": 35,
   "metadata": {},
   "outputs": [
    {
     "name": "stdout",
     "output_type": "stream",
     "text": [
      "61\n"
     ]
    }
   ],
   "source": [
    "#Finding the length of the array\n",
    "\n",
    "senior_citizens_len = len(senior_citizens)\n",
    "print(senior_citizens_len)"
   ]
  },
  {
   "cell_type": "code",
   "execution_count": 36,
   "metadata": {},
   "outputs": [
    {
     "name": "stdout",
     "output_type": "stream",
     "text": [
      "31.42622950819672\n"
     ]
    }
   ],
   "source": [
    "#Finding the average working hours\n",
    "\n",
    "avg_working_hours = working_hours_sum/senior_citizens_len\n",
    "print(avg_working_hours)"
   ]
  },
  {
   "cell_type": "markdown",
   "metadata": {},
   "source": [
    "# Education Matters!\n",
    "Our parents have repeatedly told us that we need to study well in order to get a good(read: higher-paying) job. Let's see whether the higher educated people have better pay in general.\n",
    "\n",
    "Instructions :\n",
    "Create two new subset arrays called 'high' and 'low' by filtering 'census' according to education-num>10 and education-num<=10 (education-num is the column with index 1) respectively.\n",
    "Find the mean of income column(income is the column with index 7) of 'high' array and store it in 'avg_pay_high'. Do the same for 'low' array and store it's mean in 'avg_pay_low'.\n",
    "Note: - Since income is a binary variable, mean() here represents the percentage of ppl having annual income higher than 50K. - You could have used \"mean()\" function to solve the task 'Young Country? Old Country?' as well.\n",
    "\n",
    "Compare 'avg_pay_high' and 'avg_pay_low' and see whether there is truth in better education leads to better pay\n"
   ]
  },
  {
   "cell_type": "code",
   "execution_count": 38,
   "metadata": {},
   "outputs": [],
   "source": [
    "#Creating an array based on 'education' column\n",
    "\n",
    "high = census[census[:,1]>10]\n",
    "\n",
    "low = census[census[:,1]<=10]"
   ]
  },
  {
   "cell_type": "code",
   "execution_count": 40,
   "metadata": {},
   "outputs": [
    {
     "name": "stdout",
     "output_type": "stream",
     "text": [
      "0.42813455657492355\n",
      "0.13649851632047477\n"
     ]
    }
   ],
   "source": [
    "#Finding the average pay\n",
    "\n",
    "avg_pay_high = high[:,7].mean()\n",
    "\n",
    "avg_pay_low = low[:,7].mean()\n",
    "\n",
    "print(avg_pay_high)\n",
    "\n",
    "print(avg_pay_low)"
   ]
  }
 ],
 "metadata": {
  "kernelspec": {
   "display_name": "Python 3",
   "language": "python",
   "name": "python3"
  },
  "language_info": {
   "codemirror_mode": {
    "name": "ipython",
    "version": 3
   },
   "file_extension": ".py",
   "mimetype": "text/x-python",
   "name": "python",
   "nbconvert_exporter": "python",
   "pygments_lexer": "ipython3",
   "version": "3.7.6"
  }
 },
 "nbformat": 4,
 "nbformat_minor": 4
}
